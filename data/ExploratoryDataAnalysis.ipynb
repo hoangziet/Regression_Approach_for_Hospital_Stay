{
 "cells": [
  {
   "cell_type": "code",
   "execution_count": 4,
   "metadata": {},
   "outputs": [],
   "source": [
    "import pandas as pd \n",
    "import numpy as np\n",
    "import matplotlib.pyplot as plt\n",
    "import seaborn as sns"
   ]
  },
  {
   "cell_type": "code",
   "execution_count": 5,
   "metadata": {},
   "outputs": [],
   "source": [
    "p = pd.read_csv('./raw/patients.csv')"
   ]
  },
  {
   "cell_type": "code",
   "execution_count": 6,
   "metadata": {},
   "outputs": [],
   "source": [
    "# Create total_los column = (dischtime - admittime)/(seconds in a day)\n",
    "p['admittime'] = pd.to_datetime(p['admittime'])\n",
    "p['dischtime'] = pd.to_datetime(p['dischtime'])\n",
    "\n",
    "p['total_los'] = ((p['dischtime'] - p['admittime']).dt.total_seconds() / (24 * 60 * 60)).round(4)"
   ]
  },
  {
   "cell_type": "markdown",
   "metadata": {},
   "source": [
    "Dau trang 32 sai chinh ta 'bao chat' -> 'ban chat'"
   ]
  },
  {
   "cell_type": "code",
   "execution_count": 14,
   "metadata": {},
   "outputs": [
    {
     "name": "stdout",
     "output_type": "stream",
     "text": [
      "Mean total_los:  8.376856471919238\n"
     ]
    },
    {
     "data": {
      "image/png": "[encoded data removed]",
      "text/plain": [
       "<Figure size 1000x600 with 1 Axes>"
      ]
     },
     "metadata": {},
     "output_type": "display_data"
    }
   ],
   "source": [
    "# Histogram of total_los and show the mean\n",
    "fig = plt.figure(figsize=(10, 6))\n",
    "\n",
    "sns.histplot(p['total_los'], bins=100)\n",
    "plt.axvline(p['total_los'].mean(), color='red', linestyle='dashed', linewidth=1)\n",
    "plt.tight_layout()\n",
    "\n",
    "# Save the plot\n",
    "plt.savefig('./figures/4.2.png')\n",
    "\n",
    "print(\"Mean total_los: \", p['total_los'].mean())\n",
    "plt.show()"
   ]
  },
  {
   "cell_type": "markdown",
   "metadata": {},
   "source": [
    "Tiếp theo chúng tôi tiến hành quan sát về các loại bảo hiểm mà các bệnh nhân sử dụng.\n",
    "Chúng tôi nhận thấy những bệnh nhân tự chi trả viện phí có số ngày nằm viện thấp hơn hẳn\n",
    "những bệnh nhân có sử dụng bảo hiểm. Điều này rất hợp lí vì chúng ta đều biết chi phí y tế ở Mỹ\n",
    "(nơi bộ dữ liệu MIMIC-III được thu thập) vô cùng đắt đỏ nếu không có bảo hiểm."
   ]
  },
  {
   "cell_type": "code",
   "execution_count": 16,
   "metadata": {},
   "outputs": [
    {
     "name": "stdout",
     "output_type": "stream",
     "text": [
      "insurance\n",
      "Government    8.084802\n",
      "Medicaid      9.268315\n",
      "Medicare      8.535177\n",
      "Private       8.044658\n",
      "Self Pay      5.990879\n",
      "Name: total_los, dtype: float64\n"
     ]
    }
   ],
   "source": [
    "# Mean of total_los by Insurance\n",
    "print(p.groupby('insurance')['total_los'].mean())"
   ]
  },
  {
   "cell_type": "code",
   "execution_count": 17,
   "metadata": {},
   "outputs": [
    {
     "name": "stdout",
     "output_type": "stream",
     "text": [
      "insurance\n",
      "Medicare      18317\n",
      "Private       11846\n",
      "Medicaid       2782\n",
      "Government     1050\n",
      "Self Pay        477\n",
      "Name: count, dtype: int64\n"
     ]
    }
   ],
   "source": [
    "# Number of patients by insurance\n",
    "print(p['insurance'].value_counts())"
   ]
  },
  {
   "cell_type": "code",
   "execution_count": 23,
   "metadata": {},
   "outputs": [
    {
     "data": {
      "text/html": [
       "<div>\n",
       "<style scoped>\n",
       "    .dataframe tbody tr th:only-of-type {\n",
       "        vertical-align: middle;\n",
       "    }\n",
       "\n",
       "    .dataframe tbody tr th {\n",
       "        vertical-align: top;\n",
       "    }\n",
       "\n",
       "    .dataframe thead th {\n",
       "        text-align: right;\n",
       "    }\n",
       "</style>\n",
       "<table border=\"1\" class=\"dataframe\">\n",
       "  <thead>\n",
       "    <tr style=\"text-align: right;\">\n",
       "      <th></th>\n",
       "      <th>insurance</th>\n",
       "      <th>Number of Patients</th>\n",
       "      <th>Mean Total LOS</th>\n",
       "    </tr>\n",
       "  </thead>\n",
       "  <tbody>\n",
       "    <tr>\n",
       "      <th>0</th>\n",
       "      <td>Medicare</td>\n",
       "      <td>18317</td>\n",
       "      <td>8.535177</td>\n",
       "    </tr>\n",
       "    <tr>\n",
       "      <th>1</th>\n",
       "      <td>Private</td>\n",
       "      <td>11846</td>\n",
       "      <td>8.044658</td>\n",
       "    </tr>\n",
       "    <tr>\n",
       "      <th>2</th>\n",
       "      <td>Medicaid</td>\n",
       "      <td>2782</td>\n",
       "      <td>9.268315</td>\n",
       "    </tr>\n",
       "    <tr>\n",
       "      <th>3</th>\n",
       "      <td>Government</td>\n",
       "      <td>1050</td>\n",
       "      <td>8.084802</td>\n",
       "    </tr>\n",
       "    <tr>\n",
       "      <th>4</th>\n",
       "      <td>Self Pay</td>\n",
       "      <td>477</td>\n",
       "      <td>5.990879</td>\n",
       "    </tr>\n",
       "  </tbody>\n",
       "</table>\n",
       "</div>"
      ],
      "text/plain": [
       "    insurance  Number of Patients  Mean Total LOS\n",
       "0    Medicare               18317        8.535177\n",
       "1     Private               11846        8.044658\n",
       "2    Medicaid                2782        9.268315\n",
       "3  Government                1050        8.084802\n",
       "4    Self Pay                 477        5.990879"
      ]
     },
     "execution_count": 23,
     "metadata": {},
     "output_type": "execute_result"
    }
   ],
   "source": [
    "# Table of number of patients and mean total_los by insurance\n",
    "number_of_patients = p['insurance'].value_counts()\n",
    "los_by_insurance = p.groupby('insurance')['total_los'].mean()\n",
    "\n",
    "table = pd.concat([number_of_patients, los_by_insurance], axis=1)\n",
    "table.columns = ['Number of Patients', 'Mean Total LOS']\n",
    "table.reset_index(inplace=True)\n",
    "table.to_csv('./show_table/4.11.csv', index=False)\n",
    "table"
   ]
  },
  {
   "cell_type": "code",
   "execution_count": null,
   "metadata": {},
   "outputs": [],
   "source": []
  }
 ],
 "metadata": {
  "kernelspec": {
   "display_name": "base",
   "language": "python",
   "name": "python3"
  },
  "language_info": {
   "codemirror_mode": {
    "name": "ipython",
    "version": 3
   },
   "file_extension": ".py",
   "mimetype": "text/x-python",
   "name": "python",
   "nbconvert_exporter": "python",
   "pygments_lexer": "ipython3",
   "version": "3.12.4"
  }
 },
 "nbformat": 4,
 "nbformat_minor": 2
}
